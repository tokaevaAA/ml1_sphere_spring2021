{
 "cells": [
  {
   "cell_type": "markdown",
   "metadata": {},
   "source": [
    "**Общая информация**\n",
    "\n",
    "**Срок сдачи:** 29 марта 2021, 08:30 \n",
    "\n",
    "**Штраф за опоздание:** по 1 баллу за 24 часа задержки. Через 5 дней домашнее задание сгорает.\n",
    "\n",
    "При отправлении ДЗ указывайте фамилию в названии файла\n",
    "Присылать ДЗ необходимо в виде ссылки на свой github репозиторий на почту ml1.sphere@mail.ru с указанием темы в следующем формате:\n",
    "\n",
    "[ML0220, Задание 1] Фамилия Имя.\n",
    "\n",
    "Используйте данный Ipython Notebook при оформлении домашнего задания."
   ]
  },
  {
   "cell_type": "markdown",
   "metadata": {},
   "source": [
    "\n",
    "**Штрафные баллы:**\n",
    "\n",
    "1. Отсутствие фамилии в имени скрипта (скрипт должен называться по аналогии со stroykova_hw1.ipynb) -0.5 баллов\n",
    "2. Все строчки должны быть выполнены. Нужно, чтобы output команды можно было увидеть уже в git'е. В противном случае -0.5 баллов\n"
   ]
  },
  {
   "cell_type": "code",
   "execution_count": 1,
   "metadata": {},
   "outputs": [],
   "source": [
    "import numpy as np\n",
    "import matplotlib.pyplot as plt\n",
    "\n",
    "import seaborn as sns\n",
    "from sklearn import datasets\n",
    "from sklearn.base import BaseEstimator\n",
    "from sklearn.datasets import fetch_mldata, fetch_20newsgroups\n",
    "\n",
    "from sklearn.model_selection import train_test_split\n",
    "from sklearn.neighbors import KNeighborsClassifier\n",
    "from sklearn.metrics import accuracy_score\n",
    "\n",
    "from sklearn.metrics import pairwise_distances\n",
    "from sklearn.neighbors import KDTree\n",
    "from sklearn.feature_extraction.text import CountVectorizer\n",
    "from sklearn.model_selection import KFold\n",
    "from sklearn.model_selection import cross_val_score\n",
    "from tqdm import tqdm\n",
    "from sklearn.feature_extraction.text import TfidfVectorizer\n",
    "from sklearn.feature_extraction.text import ENGLISH_STOP_WORDS"
   ]
  },
  {
   "cell_type": "markdown",
   "metadata": {},
   "source": [
    "##### Задание 1 (1 балл)\n",
    "Реализовать KNN в классе MyKNeighborsClassifier (обязательное условие: точность не ниже sklearn реализации)\n",
    "Разберитесь самостоятельно, какая мера расстояния используется в KNeighborsClassifier дефолтно и реализуйте свой алгоритм именно с этой мерой. \n",
    "Для подсчета расстояний можно использовать функции [отсюда](https://docs.scipy.org/doc/scipy/reference/spatial.distance.html)"
   ]
  },
  {
   "cell_type": "code",
   "execution_count": 2,
   "metadata": {},
   "outputs": [],
   "source": [
    "class MyKNeighborsClassifier(BaseEstimator):\n",
    "    \n",
    "    def __init__(self, n_neighbors, algorithm='brute',metric='euclidean'):\n",
    "        self.n_neighbors=n_neighbors\n",
    "        self.algorithm=algorithm\n",
    "        self.metric=metric\n",
    "    \n",
    "    def fit(self, X, y):\n",
    "        self.X=X\n",
    "        self.y=y\n",
    "    \n",
    "    def predict(self, X_test):\n",
    "        if (self.algorithm=='brute'):\n",
    "            matrix_of_pairwise_distances=pairwise_distances(X_test,self.X,metric=self.metric) #(15,135)\n",
    "            matrix_of_indices_of_k_nearest=np.argpartition(matrix_of_pairwise_distances,self.n_neighbors,axis=1)[:,0:self.n_neighbors:]\n",
    "            classes=self.y[matrix_of_indices_of_k_nearest] #(15,2)\n",
    "            otv=np.apply_along_axis(lambda r: np.bincount(r).argmax(),1, classes)\n",
    "        if (self.algorithm=='kd_tree'):\n",
    "            my_tree=KDTree(self.X,leaf_size=2,metric=self.metric)\n",
    "            dist, ind = my_tree.query(X_test, k=self.n_neighbors)\n",
    "            classes=self.y[ind] #(15,2)\n",
    "            otv=np.apply_along_axis(lambda r: np.bincount(r).argmax(),1, classes)\n",
    "        return otv\n",
    "    "
   ]
  },
  {
   "cell_type": "markdown",
   "metadata": {},
   "source": [
    "**IRIS**\n",
    "\n",
    "В библиотеке scikit-learn есть несколько датасетов из коробки. Один из них [Ирисы Фишера](https://ru.wikipedia.org/wiki/%D0%98%D1%80%D0%B8%D1%81%D1%8B_%D0%A4%D0%B8%D1%88%D0%B5%D1%80%D0%B0)"
   ]
  },
  {
   "cell_type": "code",
   "execution_count": 3,
   "metadata": {},
   "outputs": [],
   "source": [
    "iris = datasets.load_iris()"
   ]
  },
  {
   "cell_type": "code",
   "execution_count": 4,
   "metadata": {},
   "outputs": [],
   "source": [
    "X_train, X_test, y_train, y_test = train_test_split(iris.data, iris.target, test_size=0.1, stratify=iris.target)"
   ]
  },
  {
   "cell_type": "code",
   "execution_count": 5,
   "metadata": {},
   "outputs": [],
   "source": [
    "clf = KNeighborsClassifier(n_neighbors=2, algorithm='brute')\n",
    "my_clf = MyKNeighborsClassifier(n_neighbors=2, algorithm='brute')"
   ]
  },
  {
   "cell_type": "code",
   "execution_count": 6,
   "metadata": {},
   "outputs": [],
   "source": [
    "clf.fit(X_train, y_train)\n",
    "my_clf.fit(X_train, y_train)"
   ]
  },
  {
   "cell_type": "code",
   "execution_count": 7,
   "metadata": {},
   "outputs": [],
   "source": [
    "otv=my_clf.predict(X_test)"
   ]
  },
  {
   "cell_type": "code",
   "execution_count": 8,
   "metadata": {},
   "outputs": [
    {
     "name": "stdout",
     "output_type": "stream",
     "text": [
      "sklearn_predict: [0 2 1 1 1 2 0 2 1 0 0 1 1 0 2]\n",
      "my_clf_predict:  [0 2 1 1 1 2 0 2 1 0 0 1 1 0 2]\n",
      "y_test:          [0 2 1 1 1 2 0 2 2 0 0 1 1 0 2]\n"
     ]
    }
   ],
   "source": [
    "sklearn_pred = clf.predict(X_test)\n",
    "my_clf_pred = my_clf.predict(X_test)\n",
    "print(\"sklearn_predict:\",sklearn_pred)\n",
    "print(\"my_clf_predict: \",my_clf_pred)\n",
    "print(\"y_test:         \",y_test)\n",
    "assert abs( accuracy_score(y_test, my_clf_pred) -  accuracy_score(y_test, sklearn_pred ) )<0.005, \"Score must be simillar\""
   ]
  },
  {
   "cell_type": "markdown",
   "metadata": {},
   "source": [
    "**Задание 2 (0.5 балла)**\n",
    "\n",
    "Давайте попробуем добиться скорости работы на fit, predict сравнимой со sklearn для iris. Допускается замедление не более чем в 2 раза. \n",
    "Для этого используем numpy. "
   ]
  },
  {
   "cell_type": "code",
   "execution_count": 9,
   "metadata": {},
   "outputs": [
    {
     "name": "stdout",
     "output_type": "stream",
     "text": [
      "CPU times: user 570 µs, sys: 164 µs, total: 734 µs\n",
      "Wall time: 608 µs\n"
     ]
    },
    {
     "data": {
      "text/plain": [
       "KNeighborsClassifier(algorithm='brute', leaf_size=30, metric='minkowski',\n",
       "                     metric_params=None, n_jobs=None, n_neighbors=2, p=2,\n",
       "                     weights='uniform')"
      ]
     },
     "execution_count": 9,
     "metadata": {},
     "output_type": "execute_result"
    }
   ],
   "source": [
    "%time clf.fit(X_train, y_train)"
   ]
  },
  {
   "cell_type": "code",
   "execution_count": 10,
   "metadata": {},
   "outputs": [
    {
     "name": "stdout",
     "output_type": "stream",
     "text": [
      "CPU times: user 7 µs, sys: 1e+03 ns, total: 8 µs\n",
      "Wall time: 11 µs\n"
     ]
    }
   ],
   "source": [
    "%time my_clf.fit(X_train, y_train)"
   ]
  },
  {
   "cell_type": "code",
   "execution_count": 11,
   "metadata": {},
   "outputs": [
    {
     "name": "stdout",
     "output_type": "stream",
     "text": [
      "CPU times: user 2.14 ms, sys: 908 µs, total: 3.05 ms\n",
      "Wall time: 2.19 ms\n"
     ]
    },
    {
     "data": {
      "text/plain": [
       "array([0, 2, 1, 1, 1, 2, 0, 2, 1, 0, 0, 1, 1, 0, 2])"
      ]
     },
     "execution_count": 11,
     "metadata": {},
     "output_type": "execute_result"
    }
   ],
   "source": [
    "%time clf.predict(X_test)"
   ]
  },
  {
   "cell_type": "code",
   "execution_count": 12,
   "metadata": {},
   "outputs": [
    {
     "name": "stdout",
     "output_type": "stream",
     "text": [
      "CPU times: user 896 µs, sys: 612 µs, total: 1.51 ms\n",
      "Wall time: 1.08 ms\n"
     ]
    },
    {
     "data": {
      "text/plain": [
       "array([0, 2, 1, 1, 1, 2, 0, 2, 1, 0, 0, 1, 1, 0, 2])"
      ]
     },
     "execution_count": 12,
     "metadata": {},
     "output_type": "execute_result"
    }
   ],
   "source": [
    "%time my_clf.predict(X_test)"
   ]
  },
  {
   "cell_type": "markdown",
   "metadata": {},
   "source": [
    "###### Задание 3 (1 балл)\n",
    "Добавьте algorithm='kd_tree' в реализацию KNN (использовать KDTree из sklearn.neighbors). Необходимо добиться скорости работы на fit,  predict сравнимой со sklearn для iris. Допускается замедление не более чем в 2 раза. \n",
    "Для этого используем numpy. Точность не должна уступать значению KNN из sklearn. "
   ]
  },
  {
   "cell_type": "code",
   "execution_count": 13,
   "metadata": {},
   "outputs": [],
   "source": [
    "clf = KNeighborsClassifier(n_neighbors=2, algorithm='kd_tree')\n",
    "my_clf = MyKNeighborsClassifier(n_neighbors=2, algorithm='kd_tree')"
   ]
  },
  {
   "cell_type": "code",
   "execution_count": 14,
   "metadata": {},
   "outputs": [],
   "source": [
    "X_train, X_test, y_train, y_test = train_test_split(iris.data, iris.target, test_size=0.1, stratify=iris.target)"
   ]
  },
  {
   "cell_type": "code",
   "execution_count": 15,
   "metadata": {},
   "outputs": [
    {
     "name": "stdout",
     "output_type": "stream",
     "text": [
      "CPU times: user 733 µs, sys: 200 µs, total: 933 µs\n",
      "Wall time: 823 µs\n"
     ]
    },
    {
     "data": {
      "text/plain": [
       "KNeighborsClassifier(algorithm='kd_tree', leaf_size=30, metric='minkowski',\n",
       "                     metric_params=None, n_jobs=None, n_neighbors=2, p=2,\n",
       "                     weights='uniform')"
      ]
     },
     "execution_count": 15,
     "metadata": {},
     "output_type": "execute_result"
    }
   ],
   "source": [
    "%time clf.fit(X_train, y_train)"
   ]
  },
  {
   "cell_type": "code",
   "execution_count": 16,
   "metadata": {},
   "outputs": [
    {
     "name": "stdout",
     "output_type": "stream",
     "text": [
      "CPU times: user 5 µs, sys: 0 ns, total: 5 µs\n",
      "Wall time: 7.87 µs\n"
     ]
    }
   ],
   "source": [
    "%time my_clf.fit(X_train, y_train)"
   ]
  },
  {
   "cell_type": "code",
   "execution_count": 17,
   "metadata": {},
   "outputs": [
    {
     "name": "stdout",
     "output_type": "stream",
     "text": [
      "CPU times: user 2.19 ms, sys: 797 µs, total: 2.99 ms\n",
      "Wall time: 2.85 ms\n"
     ]
    },
    {
     "data": {
      "text/plain": [
       "array([2, 0, 2, 0, 1, 1, 2, 1, 1, 0, 1, 0, 0, 1, 1])"
      ]
     },
     "execution_count": 17,
     "metadata": {},
     "output_type": "execute_result"
    }
   ],
   "source": [
    "%time clf.predict(X_test)"
   ]
  },
  {
   "cell_type": "code",
   "execution_count": 18,
   "metadata": {},
   "outputs": [
    {
     "name": "stdout",
     "output_type": "stream",
     "text": [
      "CPU times: user 996 µs, sys: 289 µs, total: 1.28 ms\n",
      "Wall time: 1.26 ms\n"
     ]
    },
    {
     "data": {
      "text/plain": [
       "array([2, 0, 2, 0, 1, 1, 2, 1, 1, 0, 1, 0, 0, 1, 1])"
      ]
     },
     "execution_count": 18,
     "metadata": {},
     "output_type": "execute_result"
    }
   ],
   "source": [
    "%time my_clf.predict(X_test)"
   ]
  },
  {
   "cell_type": "code",
   "execution_count": 19,
   "metadata": {},
   "outputs": [],
   "source": [
    "sklearn_pred = clf.predict(X_test)\n",
    "my_clf_pred = my_clf.predict(X_test)\n",
    "assert abs( accuracy_score(y_test, my_clf_pred) -  accuracy_score(y_test, sklearn_pred ) )<0.005, \"Score must be simillar\""
   ]
  },
  {
   "cell_type": "markdown",
   "metadata": {},
   "source": [
    "**Задание 4 (2.5 балла)**\n",
    "\n",
    "Рассмотрим новый датасет 20 newsgroups"
   ]
  },
  {
   "cell_type": "code",
   "execution_count": 20,
   "metadata": {},
   "outputs": [],
   "source": [
    "newsgroups = fetch_20newsgroups(subset='train',remove=['headers','footers', 'quotes'])"
   ]
  },
  {
   "cell_type": "code",
   "execution_count": 21,
   "metadata": {},
   "outputs": [],
   "source": [
    "data = newsgroups['data']\n",
    "target = newsgroups['target']"
   ]
  },
  {
   "cell_type": "code",
   "execution_count": 22,
   "metadata": {},
   "outputs": [
    {
     "data": {
      "text/plain": [
       "'I was wondering if anyone out there could enlighten me on this car I saw\\nthe other day. It was a 2-door sports car, looked to be from the late 60s/\\nearly 70s. It was called a Bricklin. The doors were really small. In addition,\\nthe front bumper was separate from the rest of the body. This is \\nall I know. If anyone can tellme a model name, engine specs, years\\nof production, where this car is made, history, or whatever info you\\nhave on this funky looking car, please e-mail.'"
      ]
     },
     "execution_count": 22,
     "metadata": {},
     "output_type": "execute_result"
    }
   ],
   "source": [
    "data[0]"
   ]
  },
  {
   "cell_type": "markdown",
   "metadata": {},
   "source": [
    "Преобразуйте текстовые данные из data с помощью [CountVectorizer](https://scikit-learn.org/stable/modules/generated/sklearn.feature_extraction.text.CountVectorizer.html). Словарь можно ограничить по частотности."
   ]
  },
  {
   "cell_type": "code",
   "execution_count": 23,
   "metadata": {},
   "outputs": [
    {
     "name": "stdout",
     "output_type": "stream",
     "text": [
      "(11314, 101322)\n",
      "  (0, 96879)\t1\n",
      "  (0, 37256)\t1\n",
      "  (0, 25717)\t4\n",
      "  (0, 80420)\t1\n",
      "  (0, 31927)\t1\n",
      "  (0, 34741)\t1\n",
      "  (0, 84312)\t1\n",
      "  (0, 57247)\t1\n",
      "  (0, 55606)\t1\n",
      "  (0, 9843)\t1\n",
      "  (0, 35902)\t1\n",
      "  (0, 11174)\t1\n",
      "  (0, 25437)\t1\n",
      "  (0, 24108)\t1\n",
      "  (0, 34742)\t1\n",
      "  (0, 76269)\t1\n",
      "  (0, 83208)\t1\n",
      "  (0, 16806)\t1\n",
      "  (0, 24583)\t1\n",
      "  (0, 81450)\t1\n",
      "  (0, 77676)\t1\n",
      "  (0, 23430)\t1\n",
      "  (0, 54493)\t1\n",
      "  (0, 87913)\t1\n",
      "  (0, 62594)\t1\n",
      "  :\t:\n",
      "  (11313, 47085)\t1\n",
      "  (11313, 81583)\t1\n",
      "  (11313, 81534)\t1\n",
      "  (11313, 96205)\t1\n",
      "  (11313, 89541)\t1\n",
      "  (11313, 23252)\t1\n",
      "  (11313, 82446)\t1\n",
      "  (11313, 85297)\t1\n",
      "  (11313, 69870)\t1\n",
      "  (11313, 21226)\t1\n",
      "  (11313, 61934)\t1\n",
      "  (11313, 71793)\t1\n",
      "  (11313, 87500)\t1\n",
      "  (11313, 84379)\t1\n",
      "  (11313, 61823)\t1\n",
      "  (11313, 26147)\t1\n",
      "  (11313, 71588)\t1\n",
      "  (11313, 78163)\t1\n",
      "  (11313, 89206)\t1\n",
      "  (11313, 56576)\t1\n",
      "  (11313, 53894)\t1\n",
      "  (11313, 26150)\t1\n",
      "  (11313, 52092)\t1\n",
      "  (11313, 4486)\t1\n",
      "  (11313, 96408)\t1\n",
      "[[0 0 0 ... 0 0 0]\n",
      " [0 0 0 ... 0 0 0]\n",
      " [0 0 0 ... 0 0 0]\n",
      " ...\n",
      " [0 0 0 ... 0 0 0]\n",
      " [0 0 0 ... 0 0 0]\n",
      " [0 0 0 ... 0 0 0]]\n"
     ]
    }
   ],
   "source": [
    "my_vectorizer = CountVectorizer(stop_words=ENGLISH_STOP_WORDS)\n",
    "text_as_sparse_matrix = my_vectorizer.fit_transform(data)\n",
    "print(text_as_sparse_matrix.shape)\n",
    "print(text_as_sparse_matrix)\n",
    "print(text_as_sparse_matrix.toarray())\n",
    "#text_as_matrix=text_as_sparse_matrix.toarray()"
   ]
  },
  {
   "cell_type": "markdown",
   "metadata": {},
   "source": [
    "*Так мы получили векторное представление наших текстов. Значит можно приступать к задаче обучения модели*"
   ]
  },
  {
   "cell_type": "markdown",
   "metadata": {},
   "source": [
    "Реализуйте разбиение выборки для кросс-валидации на 3 фолдах. Разрешено использовать sklearn.cross_validation"
   ]
  },
  {
   "cell_type": "code",
   "execution_count": 24,
   "metadata": {},
   "outputs": [
    {
     "name": "stdout",
     "output_type": "stream",
     "text": [
      "KFold(n_splits=3, random_state=None, shuffle=False)\n",
      "TRAIN: [ 3772  3773  3774 ... 11311 11312 11313] TEST: [   0    1    2 ... 3769 3770 3771]\n",
      "TRAIN: [    0     1     2 ... 11311 11312 11313] TEST: [3772 3773 3774 ... 7540 7541 7542]\n",
      "TRAIN: [   0    1    2 ... 7540 7541 7542] TEST: [ 7543  7544  7545 ... 11311 11312 11313]\n"
     ]
    }
   ],
   "source": [
    "kf = KFold(n_splits=3)\n",
    "kf.get_n_splits(text_as_sparse_matrix)\n",
    "print(kf)\n",
    "for train_index, test_index in kf.split(text_as_sparse_matrix):\n",
    "    print(\"TRAIN:\", train_index, \"TEST:\", test_index)\n",
    "    X_train, X_test = text_as_sparse_matrix[train_index], text_as_sparse_matrix[test_index]\n",
    "    y_train, y_test = target[train_index], target[test_index]"
   ]
  },
  {
   "cell_type": "code",
   "execution_count": null,
   "metadata": {
    "collapsed": true
   },
   "outputs": [],
   "source": [
    "#Внимание: если в kf.split передавать не text_as_matrix (это разреженная матрица), \n",
    "#а text_as_matrix.toarray(), то будет оочень долго делиться на фолды, \n",
    "#и мой алгоритм \"brute\" тоже будет работать оочень долго;\n",
    "#А если передавать text_as_matrix, то мой 'brute' будет работать(и быстро), а мой 'kd_tree' не будет,\n",
    "#потому что ему матрица нужна, а не разреженная матрица"
   ]
  },
  {
   "cell_type": "markdown",
   "metadata": {},
   "source": [
    "Напишите метод, позволяющий найти оптимальное количество ближайших соседей(дающее максимальную точность в среднем на валидации на 3 фолдах).\n",
    "Постройте график зависимости средней точности от количества соседей. Можно рассмотреть число соседей от 1 до 10."
   ]
  },
  {
   "cell_type": "code",
   "execution_count": null,
   "metadata": {},
   "outputs": [],
   "source": [
    "#1способ"
   ]
  },
  {
   "cell_type": "code",
   "execution_count": 25,
   "metadata": {},
   "outputs": [
    {
     "name": "stderr",
     "output_type": "stream",
     "text": [
      "100%|██████████| 25/25 [01:46<00:00,  3.93s/it]"
     ]
    },
    {
     "name": "stdout",
     "output_type": "stream",
     "text": [
      "[0.262947829142779, 0.2118608046617978, 0.21354017127041322, 0.2126560215309877, 0.2161914956460623, 0.21521892858927205, 0.21141888211452417, 0.208413349482324, 0.20496638642149975, 0.20311027891504052, 0.20311018517815493, 0.19842561401643902, 0.19701168683368894, 0.19497904933737864, 0.19135499386538954, 0.19073626011760791, 0.19064791310290743, 0.18976402113991742, 0.18861501783016169, 0.1862288282354997, 0.18233984889051616, 0.18180941528899222, 0.18172111514273456, 0.17977677779268195, 0.1800420063105546]\n"
     ]
    },
    {
     "name": "stderr",
     "output_type": "stream",
     "text": [
      "\n"
     ]
    }
   ],
   "source": [
    "\n",
    "otv=[]\n",
    "for k in tqdm(range(1,26)):\n",
    "    tek_mas_of_scores_my_clf=[]\n",
    "    \n",
    "    for train_index, test_index in kf.split(text_as_sparse_matrix):\n",
    "        #print(\"TRAIN:\", train_index, \"TEST:\", test_index)\n",
    "        X_train, X_test = text_as_sparse_matrix[train_index], text_as_sparse_matrix[test_index]\n",
    "        y_train, y_test = target[train_index], target[test_index]\n",
    "        \n",
    "        my_clf = MyKNeighborsClassifier(n_neighbors=k, algorithm='brute')\n",
    "        my_clf.fit(X_train, y_train)\n",
    "        my_clf_pred = my_clf.predict(X_test)\n",
    "        tek_mas_of_scores_my_clf.append(accuracy_score(y_test, my_clf_pred))\n",
    "        \n",
    "    otv.append(np.mean(tek_mas_of_scores_my_clf))\n",
    "        \n",
    "print(otv)\n"
   ]
  },
  {
   "cell_type": "code",
   "execution_count": null,
   "metadata": {},
   "outputs": [],
   "source": [
    "#2способ"
   ]
  },
  {
   "cell_type": "code",
   "execution_count": 26,
   "metadata": {},
   "outputs": [
    {
     "name": "stderr",
     "output_type": "stream",
     "text": [
      "100%|██████████| 25/25 [01:41<00:00,  3.88s/it]"
     ]
    },
    {
     "name": "stdout",
     "output_type": "stream",
     "text": [
      "[0.262947829142779, 0.2118608046617978, 0.21354017127041322, 0.2126560215309877, 0.2161914956460623, 0.21521892858927205, 0.21141888211452417, 0.208413349482324, 0.20496638642149975, 0.20311027891504052, 0.20311018517815493, 0.19842561401643902, 0.19701168683368894, 0.19497904933737864, 0.19135499386538954, 0.19073626011760791, 0.19064791310290743, 0.18976402113991742, 0.18861501783016169, 0.1862288282354997, 0.18233984889051616, 0.18180941528899222, 0.18172111514273456, 0.17977677779268195, 0.1800420063105546]\n"
     ]
    },
    {
     "name": "stderr",
     "output_type": "stream",
     "text": [
      "\n"
     ]
    },
    {
     "data": {
      "image/png": "[encoded data removed]",
      "text/plain": [
       "<Figure size 432x288 with 1 Axes>"
      ]
     },
     "metadata": {
      "needs_background": "light"
     },
     "output_type": "display_data"
    }
   ],
   "source": [
    "my_vectorizer = CountVectorizer(stop_words=ENGLISH_STOP_WORDS)\n",
    "text_as_matrix = my_vectorizer.fit_transform(data)\n",
    "\n",
    "mas1_euclidean=[]\n",
    "for k in tqdm(range(1,26)):\n",
    "    mas_of_tek_score=cross_val_score(MyKNeighborsClassifier(n_neighbors=k, algorithm='brute',metric='euclidean'),text_as_matrix,target,scoring='accuracy',cv=3)\n",
    "    mas1_euclidean.append(np.mean(mas_of_tek_score))\n",
    "print(mas1_euclidean)\n",
    "\n",
    "plt.plot(1+np.arange(0,25),mas1_euclidean)\n",
    "plt.xlabel(\"n_neighbours\")\n",
    "plt.ylabel(\"cv_score:accuracy\")\n",
    "plt.title(\"cv_score:accuracy(n_neighbours) with euclidean_metric\")\n",
    "plt.show()"
   ]
  },
  {
   "cell_type": "markdown",
   "metadata": {},
   "source": [
    "Как изменится качество на валидации, если:\n",
    "\n",
    "1. Используется косинусная метрика вместо евклидовой.\n",
    "2. К текстам применяется TfIdf векторизацию( sklearn.feature_extraction.text.TfidfVectorizer)\n",
    "\n",
    "Сравните модели, выберите лучшую."
   ]
  },
  {
   "cell_type": "code",
   "execution_count": 27,
   "metadata": {},
   "outputs": [
    {
     "name": "stderr",
     "output_type": "stream",
     "text": [
      "100%|██████████| 25/25 [01:37<00:00,  3.65s/it]\n"
     ]
    },
    {
     "name": "stdout",
     "output_type": "stream",
     "text": [
      "[0.540834950997637, 0.4996464947700911, 0.5159095866493928, 0.528371835290419, 0.543574247440444, 0.5489657587593135, 0.5560363086076988, 0.5585111732961611, 0.5593065542049008, 0.5627535406999464, 0.5636374560971579, 0.5663776664745998, 0.566466458739507, 0.5675268806923481, 0.5685873729478534, 0.5690292486266844, 0.5702665755169191, 0.5717692480961335, 0.5715924134614042, 0.5711502331376951, 0.5714154850897892, 0.5715923197245186, 0.5720343125744564, 0.5730064343810399, 0.5725644649653235]\n"
     ]
    },
    {
     "data": {
      "image/png": "[encoded data removed]",
      "text/plain": [
       "<Figure size 432x288 with 1 Axes>"
      ]
     },
     "metadata": {
      "needs_background": "light"
     },
     "output_type": "display_data"
    }
   ],
   "source": [
    "my_vectorizer = CountVectorizer(stop_words=ENGLISH_STOP_WORDS)\n",
    "text_as_matrix = my_vectorizer.fit_transform(data)\n",
    "\n",
    "mas2_cosine=[]\n",
    "for k in tqdm(range(1,26)):\n",
    "    mas_of_tek_score=cross_val_score(MyKNeighborsClassifier(n_neighbors=k, algorithm='brute',metric='cosine'),text_as_matrix,target,scoring='accuracy',cv=3)\n",
    "    mas2_cosine.append(np.mean(mas_of_tek_score))\n",
    "print(mas2_cosine)\n",
    "\n",
    "plt.plot(1+np.arange(0,25),mas2_cosine)\n",
    "plt.xlabel(\"n_neighbours\")\n",
    "plt.ylabel(\"cv_score:accuracy\")\n",
    "plt.title(\"cv_score:accuracy(n_neighbours) with cosine_metric\")\n",
    "plt.show()"
   ]
  },
  {
   "cell_type": "code",
   "execution_count": null,
   "metadata": {},
   "outputs": [],
   "source": []
  },
  {
   "cell_type": "code",
   "execution_count": 28,
   "metadata": {},
   "outputs": [
    {
     "name": "stderr",
     "output_type": "stream",
     "text": [
      "100%|██████████| 25/25 [01:26<00:00,  3.49s/it]"
     ]
    },
    {
     "name": "stdout",
     "output_type": "stream",
     "text": [
      "[0.1364678760412176, 0.08370223484670597, 0.10022957100658136, 0.09121379330773005, 0.08873918639570333, 0.08555712377365204, 0.08317069983677595, 0.08299426358381047, 0.0805193988953483, 0.07813281091892238, 0.07751419434224781, 0.07530465190854391, 0.0753929989232444, 0.07459750084339763, 0.07415585950678087, 0.07389072472579383, 0.07274174485025954, 0.07123911913948788, 0.07062029165482066, 0.06849914310426007, 0.06947124147662216, 0.07000169851236751, 0.06929466461832824, 0.0684107726553382, 0.06841065548423116]\n"
     ]
    },
    {
     "name": "stderr",
     "output_type": "stream",
     "text": [
      "\n"
     ]
    },
    {
     "data": {
      "image/png": "[encoded data removed]",
      "text/plain": [
       "<Figure size 432x288 with 1 Axes>"
      ]
     },
     "metadata": {
      "needs_background": "light"
     },
     "output_type": "display_data"
    }
   ],
   "source": [
    "my_vectorizer = TfidfVectorizer(stop_words=ENGLISH_STOP_WORDS)\n",
    "text_as_matrix = my_vectorizer.fit_transform(data)\n",
    "\n",
    "mas3_tfidf_euclidean=[]\n",
    "for k in tqdm(range(1,26)):\n",
    "    mas_of_tek_score=cross_val_score(MyKNeighborsClassifier(n_neighbors=k, algorithm='brute',metric='euclidean'),text_as_matrix,target,scoring='accuracy',cv=3)\n",
    "    mas3_tfidf_euclidean.append(np.mean(mas_of_tek_score))\n",
    "print(mas3_tfidf_euclidean)\n",
    "\n",
    "plt.plot(1+np.arange(0,25),mas3_tfidf_euclidean)\n",
    "plt.xlabel(\"n_neighbours\")\n",
    "plt.ylabel(\"cv_score:accuracy\")\n",
    "plt.title(\"cv_score:accuracy(n_neighbours) with tf_idf_euclidean_metric\")\n",
    "plt.show()"
   ]
  },
  {
   "cell_type": "code",
   "execution_count": null,
   "metadata": {},
   "outputs": [],
   "source": []
  },
  {
   "cell_type": "code",
   "execution_count": 29,
   "metadata": {},
   "outputs": [
    {
     "name": "stderr",
     "output_type": "stream",
     "text": [
      "100%|██████████| 25/25 [01:36<00:00,  3.40s/it]"
     ]
    },
    {
     "name": "stdout",
     "output_type": "stream",
     "text": [
      "[0.6293091432176817, 0.5830825402958467, 0.6154322878014847, 0.633639881070389, 0.6486659741385556, 0.6508755868749238, 0.6569741789562754, 0.6585650813790833, 0.6636031343364867, 0.6681106365212592, 0.6693479868457154, 0.6709389595711874, 0.671911315719985, 0.6732368021511489, 0.6750929565260511, 0.6753585599914662, 0.6733256881529419, 0.674297786525304, 0.6750045157744649, 0.6747394512961421, 0.673767118581566, 0.6747392638223708, 0.6757996154725477, 0.6743854539475836, 0.672971315856841]\n"
     ]
    },
    {
     "name": "stderr",
     "output_type": "stream",
     "text": [
      "\n"
     ]
    },
    {
     "data": {
      "image/png": "[encoded data removed]",
      "text/plain": [
       "<Figure size 432x288 with 1 Axes>"
      ]
     },
     "metadata": {
      "needs_background": "light"
     },
     "output_type": "display_data"
    }
   ],
   "source": [
    "my_vectorizer = TfidfVectorizer(stop_words=ENGLISH_STOP_WORDS)\n",
    "text_as_matrix = my_vectorizer.fit_transform(data)\n",
    "\n",
    "mas4_tfidf_cosine=[]\n",
    "for k in tqdm(range(1,26)):\n",
    "    mas_of_tek_score=cross_val_score(MyKNeighborsClassifier(n_neighbors=k, algorithm='brute',metric='cosine'),text_as_matrix,target,scoring='accuracy',cv=3)\n",
    "    mas4_tfidf_cosine.append(np.mean(mas_of_tek_score))\n",
    "print(mas4_tfidf_cosine)\n",
    "\n",
    "plt.plot(1+np.arange(0,25),mas4_tfidf_cosine)\n",
    "plt.xlabel(\"n_neighbours\")\n",
    "plt.ylabel(\"cv_score:accuracy\")\n",
    "plt.title(\"cv_score:accuracy(n_neighbours) with tf_idf_cosine_metric\")\n",
    "plt.show()"
   ]
  },
  {
   "cell_type": "code",
   "execution_count": null,
   "metadata": {},
   "outputs": [],
   "source": []
  },
  {
   "cell_type": "code",
   "execution_count": null,
   "metadata": {},
   "outputs": [],
   "source": [
    "#Построим все на одном графике"
   ]
  },
  {
   "cell_type": "code",
   "execution_count": 30,
   "metadata": {},
   "outputs": [
    {
     "data": {
      "image/png": "[encoded data removed]",
      "text/plain": [
       "<Figure size 1080x576 with 1 Axes>"
      ]
     },
     "metadata": {
      "needs_background": "light"
     },
     "output_type": "display_data"
    }
   ],
   "source": [
    "plt.figure(figsize=(15,8))\n",
    "plt.plot(1+np.arange(0,25),mas1_euclidean,c='red',label='euclidean')\n",
    "plt.plot(1+np.arange(0,25),mas2_cosine,c='orange',label='cosine')\n",
    "plt.plot(1+np.arange(0,25),mas3_tfidf_euclidean,c='yellow',label='tfidf_euclidean')\n",
    "plt.plot(1+np.arange(0,25),mas4_tfidf_cosine,c='green',label='tfidf_cosine')\n",
    "plt.xlabel(\"n_neighbours\")\n",
    "plt.ylabel(\"cv_score:accuracy\")\n",
    "plt.legend()\n",
    "plt.show()"
   ]
  },
  {
   "cell_type": "code",
   "execution_count": null,
   "metadata": {},
   "outputs": [],
   "source": [
    "#Видим из графика, что наибольший скор дает tf_idf_cosine с числом соседей 15"
   ]
  },
  {
   "cell_type": "markdown",
   "metadata": {},
   "source": [
    "Загрузим  теперь test  часть нашей выборки и преобразуем её аналогично с train частью. Не забудьте, что наборы слов в train и test части могут отличаться."
   ]
  },
  {
   "cell_type": "code",
   "execution_count": 31,
   "metadata": {},
   "outputs": [],
   "source": [
    "newsgroups_train = fetch_20newsgroups(subset='train',remove=['headers','footers', 'quotes'])\n",
    "data_train = newsgroups_train['data']\n",
    "target_train = newsgroups_train['target']"
   ]
  },
  {
   "cell_type": "code",
   "execution_count": 32,
   "metadata": {},
   "outputs": [],
   "source": [
    "newsgroups_test = fetch_20newsgroups(subset='test',remove=['headers','footers', 'quotes'])\n",
    "data_test = newsgroups_test['data']\n",
    "target_test = newsgroups_test['target']"
   ]
  },
  {
   "cell_type": "code",
   "execution_count": 33,
   "metadata": {},
   "outputs": [
    {
     "name": "stdout",
     "output_type": "stream",
     "text": [
      "11314\n",
      "7532\n"
     ]
    }
   ],
   "source": [
    "print(len(data_train))\n",
    "print(len(data_test))"
   ]
  },
  {
   "cell_type": "markdown",
   "metadata": {},
   "source": [
    "Оценим точность вашей лучшей модели на test части датасета. Отличается ли оно от кросс-валидации? Попробуйте сделать выводы, почему отличается качество."
   ]
  },
  {
   "cell_type": "code",
   "execution_count": 34,
   "metadata": {},
   "outputs": [
    {
     "name": "stdout",
     "output_type": "stream",
     "text": [
      "(11314, 101322)\n",
      "(7532, 101322)\n"
     ]
    }
   ],
   "source": [
    "my_vectorizer = TfidfVectorizer(stop_words=ENGLISH_STOP_WORDS)\n",
    "text_as_sparse_matrix_train = my_vectorizer.fit_transform(data_train)\n",
    "text_as_sparse_matrix_test = my_vectorizer.transform(data_test)\n",
    "print(text_as_sparse_matrix_train.toarray().shape)\n",
    "print(text_as_sparse_matrix_test.toarray().shape)\n"
   ]
  },
  {
   "cell_type": "code",
   "execution_count": 36,
   "metadata": {},
   "outputs": [
    {
     "name": "stdout",
     "output_type": "stream",
     "text": [
      "0.6204195432819968\n"
     ]
    }
   ],
   "source": [
    "best_clf=MyKNeighborsClassifier(n_neighbors=15, algorithm='brute',metric='cosine')\n",
    "best_clf.fit(text_as_sparse_matrix_train,target_train)\n",
    "y_pred=best_clf.predict(text_as_sparse_matrix_test)\n",
    "best_clf_acc_score=accuracy_score(y_pred,target_test)\n",
    "print(best_clf_acc_score)"
   ]
  },
  {
   "cell_type": "code",
   "execution_count": null,
   "metadata": {},
   "outputs": [],
   "source": [
    "#Видим, что на тесте скор несколько меньше, чем на кросс-валидации (ну 0.602<0.668), но\n",
    "#это ожидаемо, потому что алгоритм никогда не видел тестовую выборку и не смог под нее \n",
    "#переобучиться, в отличие от трейновой"
   ]
  }
 ],
 "metadata": {
  "kernelspec": {
   "display_name": "Python 3",
   "language": "python",
   "name": "python3"
  },
  "language_info": {
   "codemirror_mode": {
    "name": "ipython",
    "version": 3
   },
   "file_extension": ".py",
   "mimetype": "text/x-python",
   "name": "python",
   "nbconvert_exporter": "python",
   "pygments_lexer": "ipython3",
   "version": "3.7.3"
  }
 },
 "nbformat": 4,
 "nbformat_minor": 2
}
