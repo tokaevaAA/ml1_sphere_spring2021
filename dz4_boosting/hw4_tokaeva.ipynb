{
 "cells": [
  {
   "cell_type": "markdown",
   "metadata": {},
   "source": [
    "### Алгоритмы интеллектуальной обработки больших объемов данных\n",
    "## Домашнее задание №4 - Градиентный бустинг\n"
   ]
  },
  {
   "cell_type": "markdown",
   "metadata": {},
   "source": [
    "**Общая информация**\n",
    "\n",
    "**Срок сдачи:** 10 мая 2021, 08:30   \n",
    "**Штраф за опоздание:** -2 балла после 08:30 10 мая, -4 балла после 08:30 17 мая, -6 баллов после 08:30 24 мая, -8 баллов после 08:30 31 мая.\n",
    "\n",
    "При отправлении ДЗ указывайте фамилию в названии файла Присылать ДЗ необходимо в виде ссылки на свой github репозиторий на почту ml1.sphere@mail.ru с указанием темы в следующем формате:\n",
    "[ML0221, Задание 4] Фамилия Имя. \n",
    "\n",
    "\n",
    "Используйте данный Ipython Notebook при оформлении домашнего задания."
   ]
  },
  {
   "cell_type": "markdown",
   "metadata": {},
   "source": [
    "##  Считаем производные для функций потерь (1 балл)"
   ]
  },
  {
   "cell_type": "markdown",
   "metadata": {},
   "source": [
    "Мы будем реализовать градиентный бустинг для 3 функций потерь:\n",
    "\n",
    "1) MSE  $L(a(x_i), y_i) = (y_i - a(x_i)) ^ 2$\n",
    "\n",
    "2) Экспоненциальная  $L(a(x_i), y_i) = exp( -a(x_i) y_i), y_i \\in \\{-1, 1\\}$\n",
    "\n",
    "3) Логистическая  $L(a(x_i), y_i) = \\log (1 + exp( -a(x_i) y_i)), y_i \\in \\{-1, 1\\}$\n",
    "\n",
    "где $a(x_i)$ предсказание бустинга на итом объекте. \n",
    "\n",
    "Для каждой функции потерь напишите таргет, на который будет настраиваться каждое дерево в бустинге. "
   ]
  },
  {
   "cell_type": "markdown",
   "metadata": {},
   "source": [
    "Ваше решение тут"
   ]
  },
  {
   "cell_type": "markdown",
   "metadata": {},
   "source": [
    "1) $L(F(x_i),y_i)=(y_i-F(x_i))^2$"
   ]
  },
  {
   "cell_type": "markdown",
   "metadata": {},
   "source": [
    "grad=$\\frac{dL}{dF}=-2(y_i-F(x_i))=2(F(x_i)-y_i)$"
   ]
  },
  {
   "cell_type": "markdown",
   "metadata": {},
   "source": [
    "new_target=-grad=$-2(F(x_i)-y_i)$"
   ]
  },
  {
   "cell_type": "markdown",
   "metadata": {},
   "source": [
    "2) $L(F(x_i), y_i) = exp( -F(x_i) y_i)$"
   ]
  },
  {
   "cell_type": "markdown",
   "metadata": {},
   "source": [
    "grad=$\\frac{dL}{dF}=-y_i*exp( -F(x_i) y_i)$"
   ]
  },
  {
   "cell_type": "markdown",
   "metadata": {},
   "source": [
    "new_target=-grad=y_i*exp( -F(x_i) y_i)"
   ]
  },
  {
   "cell_type": "markdown",
   "metadata": {},
   "source": [
    "3) $L(F(x_i), y_i) = \\log (1 + exp( -F(x_i) y_i))$"
   ]
  },
  {
   "cell_type": "markdown",
   "metadata": {},
   "source": [
    "grad=$\\frac{dL}{dF}=-y_i*exp( -F(x_i) y_i)/(1 + exp( -F(x_i) y_i))$"
   ]
  },
  {
   "cell_type": "markdown",
   "metadata": {},
   "source": [
    "new_target=-grad=$y_i*exp( -F(x_i) y_i)/(1 + exp( -F(x_i) y_i))$"
   ]
  },
  {
   "cell_type": "markdown",
   "metadata": {},
   "source": [
    "##  Реализуем градиентный бустинг (3 балла)"
   ]
  },
  {
   "cell_type": "markdown",
   "metadata": {},
   "source": [
    "Реализуйте класс градиентного бустинга для классификации. Ваша реализация бустинга должна работать по точности не более чем на 5 процентов хуже чем GradientBoostingClassifier из sklearn. \n"
   ]
  },
  {
   "cell_type": "markdown",
   "metadata": {},
   "source": [
    "Детали реализации:\n",
    "\n",
    "-- должно поддерживаться 3 функции потерь\n",
    "\n",
    "-- сами базовые алгоритмы(деревья, линейные модели и тп) реализовать не надо, просто возьмите готовые из sklearn\n",
    "\n",
    "-- в качестве функции потерь для построения одного дерева используйте MSE\n",
    "\n",
    "-- шаг в бустинге можно не подбирать, можно брать константный\n",
    "\n",
    "-- можно брать разные модели в качестве инициализации бустинга\n",
    "\n",
    "-- должны поддерживаться следующие параметры:\n",
    "\n",
    "а) число итераций\n",
    "б) размер шага\n",
    "в) процент случайных фичей при построении одного дерева\n",
    "д) процент случайных объектов при построении одного дерева\n",
    "е) параметры базового алгоритма (передавайте через **kwargs)"
   ]
  },
  {
   "cell_type": "code",
   "execution_count": 174,
   "metadata": {},
   "outputs": [],
   "source": [
    "import numpy as np\n",
    "\n",
    "from sklearn.datasets import load_wine\n",
    "from sklearn.ensemble import GradientBoostingClassifier\n",
    "from sklearn.metrics import accuracy_score\n",
    "from sklearn.model_selection import train_test_split\n",
    "from sklearn.tree import DecisionTreeRegressor\n",
    "from sklearn.dummy import DummyRegressor, DummyClassifier\n",
    "from sklearn.model_selection import KFold\n",
    "import matplotlib.pyplot as plt\n",
    "from tqdm import tqdm"
   ]
  },
  {
   "cell_type": "code",
   "execution_count": 184,
   "metadata": {},
   "outputs": [],
   "source": [
    "class MyGradientBoostingClassifier:\n",
    "\n",
    "    def __init__(self, loss_type=\"mse\", learning_rate=0.01, n_estimators=100, dola_priznakov=1, dola_objects=1, *args, **kwargs):\n",
    "        \"\"\"\n",
    "        loss_type -- один из 3 лоссов:\n",
    "        learning_rate -- шаг бустинга\n",
    "        n_estimators -- число итераций\n",
    "        dola_priznakov -- процент рандомных признаков при обучнеии одного алгоритма\n",
    "        dola_objects -- процент рандомных объектов при обучнеии одного алгоритма\n",
    "        args, kwargs -- параметры  базовых моделей\n",
    "        \"\"\"\n",
    "        # Ваш код здесь\n",
    "        self.loss_type=loss_type\n",
    "        self.learning_rate=learning_rate\n",
    "        self.n_estimators=n_estimators\n",
    "        self.dola_priznakov=dola_priznakov\n",
    "        self.dola_objects=dola_objects\n",
    "        self.args=args\n",
    "        self.kwargs=kwargs\n",
    "        self.mas_fs=[]\n",
    "        self.mas_feature_perm=[]\n",
    "        self.init_model=None\n",
    "        \n",
    "    def F(self,X):\n",
    "        #print(\"Hello from F\")\n",
    "        N=len(X)\n",
    "        otv=np.zeros(N) #vector\n",
    "        start=0\n",
    "        if self.init_model is None:\n",
    "            #print(\"Hello from h1\")\n",
    "            otv=self.mas_fs[0]*np.ones(N) #vector\n",
    "            start=1\n",
    "        \n",
    "        for model,prizn_permut in zip(self.mas_fs[start:],self.mas_feature_perm[start:]):\n",
    "            otv+=self.learning_rate*model.predict(X[:,prizn_permut]) #vector\n",
    "        \n",
    "        return np.array(list(map(int,otv)))\n",
    "    \n",
    "    def calc_grad(self,X,y):\n",
    "        N=len(y)\n",
    "        otv=np.zeros(N)\n",
    "        if self.loss_type==\"mse\":\n",
    "            otv=2*(self.F(X)-y) #vector\n",
    "        elif self.loss_type==\"exp\":\n",
    "            otv=-y*np.exp(-self.F(X)*y) #vector\n",
    "        elif self.loss_type==\"log\":\n",
    "            otv=(-y*np.exp(-y * self.F(X))) / (1 + np.exp(self.F(X) * y)) #vector\n",
    "        return otv\n",
    "        \n",
    "        \n",
    "            \n",
    "    \n",
    "    def fit(self, X, y, base_model=DecisionTreeRegressor, init_model=None):\n",
    "        \"\"\"\n",
    "        X -- объекты для обучения:\n",
    "        y -- таргеты для обучения\n",
    "        base_model -- класс базовых моделей, например sklearn.tree.DecisionTreeRegressor\n",
    "        init_model -- класс для первой модели, если None то берем константу (только для посл задания)\n",
    "        \"\"\"\n",
    "        # Ваш код здесь\n",
    "        self.mas_fs=[]\n",
    "        self.mas_feature_perm=[]\n",
    "        self.init_model=init_model\n",
    "        \n",
    "        priznak_size = int(X.shape[1] * self.dola_priznakov)\n",
    "        objects_size = int(X.shape[0] * self.dola_objects)\n",
    "        \n",
    "\n",
    "        \n",
    "        if (init_model is not None):\n",
    "            f0=init_model\n",
    "\n",
    "            \n",
    "            priznaki_permut = np.arange(X.shape[1])[0:priznak_size]\n",
    "            objects_permut = np.arange(X.shape[0])[0:objects_size]\n",
    "            \n",
    "            f0.fit(X[objects_permut,:][:,priznaki_permut], y[objects_permut])\n",
    "            self.mas_fs.append(f0)\n",
    "            self.mas_feature_perm.append(priznaki_permut)\n",
    "            \n",
    "        else:\n",
    "            self.mas_fs.append(np.bincount(y).argmax())\n",
    "            self.mas_feature_perm.append(np.arange(X.shape[1]))\n",
    "        \n",
    "        for k in range(1,self.n_estimators+1):\n",
    "            priznaki_permut = np.arange(X.shape[1])[0:priznak_size]\n",
    "            objects_permut = np.arange(X.shape[0])[0:objects_size]\n",
    "            \n",
    "            new_target=-self.calc_grad(X[objects_permut,:][:,priznaki_permut], y[objects_permut])\n",
    "            #print(\"new_target\",new_target)\n",
    "            fk=base_model(*self.args, **self.kwargs)\n",
    "            fk.fit(X[objects_permut,:][:,priznaki_permut], new_target[objects_permut])\n",
    "            self.mas_fs.append(fk)\n",
    "            self.mas_feature_perm.append(priznaki_permut)\n",
    "            \n",
    "        \n",
    "    def predict(self, X):\n",
    "        # Ваш код здесь\n",
    "        #print(\"Hello from predict\")\n",
    "        return self.F(X)"
   ]
  },
  {
   "cell_type": "code",
   "execution_count": 185,
   "metadata": {},
   "outputs": [],
   "source": [
    "my_clf = MyGradientBoostingClassifier(n_estimators=100)\n",
    "clf = GradientBoostingClassifier()"
   ]
  },
  {
   "cell_type": "code",
   "execution_count": 186,
   "metadata": {},
   "outputs": [],
   "source": [
    "wine = load_wine()\n",
    "X_train, X_test, y_train, y_test = train_test_split(wine.data, wine.target, test_size=0.1, stratify=wine.target)"
   ]
  },
  {
   "cell_type": "code",
   "execution_count": 178,
   "metadata": {},
   "outputs": [
    {
     "name": "stdout",
     "output_type": "stream",
     "text": [
      "0.9444444444444444\n",
      "0.9444444444444444\n"
     ]
    }
   ],
   "source": [
    "my_clf.fit(X_train, y_train)\n",
    "clf.fit(X_train, y_train)\n",
    "print(accuracy_score(y_pred=clf.predict(X_test), y_true=y_test))\n",
    "print(accuracy_score(y_pred=my_clf.predict(X_test), y_true=y_test))"
   ]
  },
  {
   "cell_type": "markdown",
   "metadata": {},
   "source": [
    "## Подбираем параметры (2 балла)\n",
    "\n",
    "Давайте попробуем применить Ваш бустинг для предсказаний цены домов в Калифорнии. Чтобы можно было попробовать\n",
    "разные функции потерь, переведем по порогу таргет в 2 класса: дорогие и дешевые дома."
   ]
  },
  {
   "cell_type": "markdown",
   "metadata": {},
   "source": [
    "В задании нужно\n",
    "\n",
    "1) Построить график точности в зависимости от числа итераций на валидации.\n",
    "\n",
    "2) Подобрать оптимальные параметры Вашего бустинга на валидации. \n"
   ]
  },
  {
   "cell_type": "code",
   "execution_count": 179,
   "metadata": {},
   "outputs": [],
   "source": [
    "from sklearn.datasets import fetch_california_housing\n",
    "X, y = fetch_california_housing(return_X_y=True)"
   ]
  },
  {
   "cell_type": "code",
   "execution_count": 180,
   "metadata": {},
   "outputs": [
    {
     "name": "stdout",
     "output_type": "stream",
     "text": [
      "(20640, 8) (20640,)\n"
     ]
    }
   ],
   "source": [
    "# Превращаем регрессию в классификацию\n",
    "y = (y > 2.0).astype(int)\n",
    "print(X.shape, y.shape)"
   ]
  },
  {
   "cell_type": "code",
   "execution_count": 181,
   "metadata": {},
   "outputs": [
    {
     "name": "stderr",
     "output_type": "stream",
     "text": [
      "100%|██████████| 95/95 [24:01<00:00, 30.34s/it]\n"
     ]
    }
   ],
   "source": [
    "mas_x = []\n",
    "mas_y = []\n",
    "for i in tqdm(range(5,100)):\n",
    "    mas_x.append(i)\n",
    "    my_clf = MyGradientBoostingClassifier(n_estimators = i, max_depth = 5)\n",
    "    accuracy = 0\n",
    "    for j in range(3):\n",
    "        X_train, X_test, y_train, y_test = train_test_split(X, y, test_size=0.2, stratify=y)\n",
    "        my_clf.fit(X_train, y_train)\n",
    "        accuracy += accuracy_score(my_clf.predict(X_test), y_test)\n",
    "    mas_y.append(accuracy / 3)"
   ]
  },
  {
   "cell_type": "code",
   "execution_count": 182,
   "metadata": {},
   "outputs": [
    {
     "name": "stdout",
     "output_type": "stream",
     "text": [
      "optimal estimator 99\n",
      "best accuracy 0.8195251937984497\n"
     ]
    },
    {
     "data": {
      "image/png": "[encoded data removed]",
      "text/plain": [
       "<Figure size 432x288 with 1 Axes>"
      ]
     },
     "metadata": {
      "needs_background": "light"
     },
     "output_type": "display_data"
    }
   ],
   "source": [
    "plt.xlabel(\"iterations\")\n",
    "plt.ylabel(\"accuracy_score\")\n",
    "plt.plot(mas_x,mas_y)\n",
    "print('optimal estimator', mas_x[np.argmax(mas_y)])\n",
    "print('best accuracy', np.max(mas_y))"
   ]
  },
  {
   "cell_type": "code",
   "execution_count": 189,
   "metadata": {},
   "outputs": [
    {
     "name": "stderr",
     "output_type": "stream",
     "text": [
      "100%|██████████| 3/3 [02:32<00:00, 50.64s/it]\n"
     ]
    }
   ],
   "source": [
    "kf = KFold(n_splits = 5)\n",
    "accuracy_mas = []\n",
    "for loss in tqdm(['mse', 'exp', 'log']):\n",
    "    my_clf = MyGradientBoostingClassifier(loss_type = loss, n_estimators = 100, max_depth = 5)\n",
    "    accuracy = 0\n",
    "    for train_index, test_index in kf.split(X):\n",
    "        my_clf.fit(X[train_index], y[train_index])\n",
    "        accuracy += accuracy_score(my_clf.predict(X[test_index]), y[test_index])\n",
    "    accuracy_mas.append(accuracy / 5)"
   ]
  },
  {
   "cell_type": "code",
   "execution_count": 190,
   "metadata": {},
   "outputs": [
    {
     "name": "stdout",
     "output_type": "stream",
     "text": [
      "[0.7835271317829458, 0.5779554263565891, 0.5780523255813954]\n"
     ]
    }
   ],
   "source": [
    "print(accuracy_mas)"
   ]
  },
  {
   "cell_type": "code",
   "execution_count": 197,
   "metadata": {},
   "outputs": [
    {
     "name": "stderr",
     "output_type": "stream",
     "text": [
      "\n",
      "  0%|          | 0/7 [00:00<?, ?it/s]\u001b[A\n",
      " 14%|█▍        | 1/7 [00:55<05:32, 55.49s/it]\u001b[A\n",
      " 29%|██▊       | 2/7 [01:53<04:41, 56.35s/it]\u001b[A\n",
      " 43%|████▎     | 3/7 [02:46<03:41, 55.25s/it]\u001b[A\n",
      " 57%|█████▋    | 4/7 [03:47<02:51, 57.04s/it]\u001b[A\n",
      " 71%|███████▏  | 5/7 [04:42<01:52, 56.35s/it]\u001b[A\n",
      " 86%|████████▌ | 6/7 [05:33<00:54, 54.75s/it]\u001b[A\n",
      "100%|██████████| 7/7 [06:25<00:00, 53.97s/it]\u001b[A"
     ]
    }
   ],
   "source": [
    "accuracy_mas = []\n",
    "for step in tqdm([0.01, 0.1, 0.3, 0.5, 0.7, 0.9, 1]):\n",
    "    my_clf = MyGradientBoostingClassifier(learning_rate = step, n_estimators = 100, max_depth = 5)\n",
    "    accuracy = 0\n",
    "    for train_index, test_index in kf.split(X):\n",
    "        my_clf.fit(X[train_index], y[train_index])\n",
    "        accuracy += accuracy_score(my_clf.predict(X[test_index]), y[test_index])\n",
    "    accuracy_mas.append(accuracy / 5)"
   ]
  },
  {
   "cell_type": "code",
   "execution_count": 196,
   "metadata": {},
   "outputs": [
    {
     "name": "stdout",
     "output_type": "stream",
     "text": [
      "optimal learning_rate 0.01\n"
     ]
    },
    {
     "data": {
      "image/png": "[encoded data removed]",
      "text/plain": [
       "<Figure size 432x288 with 1 Axes>"
      ]
     },
     "metadata": {
      "needs_background": "light"
     },
     "output_type": "display_data"
    }
   ],
   "source": [
    "plt.xlabel('learning_rate')\n",
    "plt.ylabel('accuracy')\n",
    "plt.plot([0.01, 0.1, 0.3, 0.5, 0.7, 0.9, 1], accuracy_mas)\n",
    "print('optimal learning_rate', [0.01, 0.1, 0.3, 0.5, 0.7, 0.9, 1][np.argmax(accuracy_mas)])\n"
   ]
  },
  {
   "cell_type": "code",
   "execution_count": 203,
   "metadata": {},
   "outputs": [
    {
     "name": "stdout",
     "output_type": "stream",
     "text": [
      "Depth: 3 accuracy: 0.91875\n",
      "Depth: 5 accuracy: 0.93125\n",
      "Depth: 7 accuracy: 0.9125\n",
      "Depth: 10 accuracy: 0.91875\n",
      "Depth: 20 accuracy: 0.9125\n",
      "Depth: 30 accuracy: 0.9125\n",
      "Depth: 40 accuracy: 0.9\n",
      "Depth: 50 accuracy: 0.94375\n"
     ]
    },
    {
     "data": {
      "text/plain": [
       "[<matplotlib.lines.Line2D at 0x7fa26a9f7f28>]"
      ]
     },
     "execution_count": 203,
     "metadata": {},
     "output_type": "execute_result"
    },
    {
     "data": {
      "image/png": "[encoded data removed]",
      "text/plain": [
       "<Figure size 432x288 with 1 Axes>"
      ]
     },
     "metadata": {
      "needs_background": "light"
     },
     "output_type": "display_data"
    }
   ],
   "source": [
    "depth = [3, 5, 7, 10, 20, 30, 40, 50]\n",
    "\n",
    "def find_best_max_depth(depth):\n",
    "    accuracy = []\n",
    "    for max_depth in depth:\n",
    "        kf = KFold(n_splits=5)\n",
    "        scores = []\n",
    "        for train_index, val_index in kf.split(X_train):\n",
    "            my_clf = MyGradientBoostingClassifier(loss_type='mse', learning_rate=0.01,\\\n",
    "                                                  n_estimators=100, max_depth=max_depth)\n",
    "            data_train, data_val = X_train[train_index], X_train[val_index]\n",
    "            target_train, target_val = y_train[train_index], y_train[val_index]\n",
    "            my_clf.fit(data_train, target_train, DecisionTreeRegressor)\n",
    "            prediction = my_clf.predict(data_val)\n",
    "            score = accuracy_score(target_val, prediction)\n",
    "            scores.append(score)\n",
    "        scores = np.mean(scores)\n",
    "        accuracy.append(scores)\n",
    "        print(f\"Depth: {max_depth} accuracy: {scores}\")\n",
    "    return accuracy\n",
    "accuracy = find_best_max_depth(depth)\n",
    "\n",
    "plt.xlabel('depth')\n",
    "plt.ylabel('accuracy')\n",
    "plt.plot(depth, accuracy)"
   ]
  },
  {
   "cell_type": "code",
   "execution_count": null,
   "metadata": {},
   "outputs": [],
   "source": [
    "В итоге n_estimators=100,loss_type='mse',learning_rate=0.01, depth=50"
   ]
  },
  {
   "cell_type": "markdown",
   "metadata": {},
   "source": [
    "## BooBag BagBoo (1 балл)\n",
    "\n"
   ]
  },
  {
   "cell_type": "markdown",
   "metadata": {},
   "source": [
    "Попробуем объединить бустинг и бэгинг. Давайте\n",
    "\n",
    "1) в качестве базовой модели брать не дерево решений, а случайный лес (из sklearn)\n",
    "\n",
    "2) обучать N бустингов на бустрапированной выборке, а затем предикт усреднять"
   ]
  },
  {
   "cell_type": "markdown",
   "metadata": {},
   "source": [
    "Попробуйте обе этих стратегии на данных из прошлого задания. Получилось ли улучшить качество? Почему?"
   ]
  },
  {
   "cell_type": "code",
   "execution_count": 206,
   "metadata": {},
   "outputs": [],
   "source": [
    "import warnings\n",
    "warnings.filterwarnings('ignore')"
   ]
  },
  {
   "cell_type": "code",
   "execution_count": 207,
   "metadata": {},
   "outputs": [
    {
     "data": {
      "text/plain": [
       "0.8294573643410853"
      ]
     },
     "execution_count": 207,
     "metadata": {},
     "output_type": "execute_result"
    }
   ],
   "source": [
    "from sklearn.ensemble import RandomForestRegressor, BaggingRegressor\n",
    "my_clf = MyGradientBoostingClassifier(learning_rate=0.01, n_estimators=100, max_depth = 5)\n",
    "X_train, X_test, y_train, y_test = train_test_split(X, y, test_size=0.2, stratify=y)\n",
    "my_clf.fit(X_train, y_train, base_model=RandomForestRegressor)\n",
    "accuracy_score(my_clf.predict(X_test), y_test)"
   ]
  },
  {
   "cell_type": "code",
   "execution_count": null,
   "metadata": {},
   "outputs": [],
   "source": [
    "Качетство чуть-чуть приросло"
   ]
  },
  {
   "cell_type": "code",
   "execution_count": null,
   "metadata": {
    "collapsed": true
   },
   "outputs": [],
   "source": [
    "Теперь 100 бустингов"
   ]
  },
  {
   "cell_type": "code",
   "execution_count": 209,
   "metadata": {},
   "outputs": [
    {
     "name": "stderr",
     "output_type": "stream",
     "text": [
      "\n",
      "\n",
      "  0%|          | 0/100 [00:00<?, ?it/s]\u001b[A\u001b[A\n",
      "\n",
      "  1%|          | 1/100 [00:11<19:43, 11.96s/it]\u001b[A\u001b[A\n",
      "\n",
      "  2%|▏         | 2/100 [00:24<19:54, 12.19s/it]\u001b[A\u001b[A\n",
      "\n",
      "  3%|▎         | 3/100 [00:35<18:56, 11.71s/it]\u001b[A\u001b[A\n",
      "\n",
      "  4%|▍         | 4/100 [00:45<18:12, 11.38s/it]\u001b[A\u001b[A\n",
      "\n",
      "  5%|▌         | 5/100 [00:56<17:41, 11.18s/it]\u001b[A\u001b[A\n",
      "\n",
      "  6%|▌         | 6/100 [01:07<17:33, 11.21s/it]\u001b[A\u001b[A\n",
      "\n",
      "  7%|▋         | 7/100 [01:18<17:19, 11.18s/it]\u001b[A\u001b[A\n",
      "\n",
      "  8%|▊         | 8/100 [01:29<16:47, 10.95s/it]\u001b[A\u001b[A\n",
      "\n",
      "  9%|▉         | 9/100 [01:43<17:55, 11.82s/it]\u001b[A\u001b[A\n",
      "\n",
      " 10%|█         | 10/100 [01:55<17:53, 11.92s/it]\u001b[A\u001b[A\n",
      "\n",
      " 11%|█         | 11/100 [02:06<17:18, 11.67s/it]\u001b[A\u001b[A\n",
      "\n",
      " 12%|█▏        | 12/100 [02:17<16:37, 11.34s/it]\u001b[A\u001b[A\n",
      "\n",
      " 13%|█▎        | 13/100 [02:27<16:12, 11.17s/it]\u001b[A\u001b[A\n",
      "\n",
      " 14%|█▍        | 14/100 [02:38<15:56, 11.12s/it]\u001b[A\u001b[A\n",
      "\n",
      " 15%|█▌        | 15/100 [02:49<15:37, 11.02s/it]\u001b[A\u001b[A\n",
      "\n",
      " 16%|█▌        | 16/100 [03:01<15:39, 11.18s/it]\u001b[A\u001b[A\n",
      "\n",
      " 17%|█▋        | 17/100 [03:12<15:22, 11.11s/it]\u001b[A\u001b[A\n",
      "\n",
      " 18%|█▊        | 18/100 [03:22<15:01, 11.00s/it]\u001b[A\u001b[A\n",
      "\n",
      " 19%|█▉        | 19/100 [03:34<14:57, 11.08s/it]\u001b[A\u001b[A\n",
      "\n",
      " 20%|██        | 20/100 [03:44<14:37, 10.97s/it]\u001b[A\u001b[A\n",
      "\n",
      " 21%|██        | 21/100 [03:56<14:30, 11.02s/it]\u001b[A\u001b[A\n",
      "\n",
      " 22%|██▏       | 22/100 [04:06<14:05, 10.84s/it]\u001b[A\u001b[A\n",
      "\n",
      " 23%|██▎       | 23/100 [04:16<13:42, 10.68s/it]\u001b[A\u001b[A\n",
      "\n",
      " 24%|██▍       | 24/100 [04:27<13:23, 10.58s/it]\u001b[A\u001b[A\n",
      "\n",
      " 25%|██▌       | 25/100 [04:37<13:07, 10.50s/it]\u001b[A\u001b[A\n",
      "\n",
      " 26%|██▌       | 26/100 [04:47<12:54, 10.47s/it]\u001b[A\u001b[A\n",
      "\n",
      " 27%|██▋       | 27/100 [04:58<12:41, 10.42s/it]\u001b[A\u001b[A\n",
      "\n",
      " 28%|██▊       | 28/100 [05:08<12:28, 10.40s/it]\u001b[A\u001b[A\n",
      "\n",
      " 29%|██▉       | 29/100 [05:18<12:17, 10.38s/it]\u001b[A\u001b[A\n",
      "\n",
      " 30%|███       | 30/100 [05:29<12:06, 10.38s/it]\u001b[A\u001b[A\n",
      "\n",
      " 31%|███       | 31/100 [05:39<11:54, 10.36s/it]\u001b[A\u001b[A\n",
      "\n",
      " 32%|███▏      | 32/100 [05:50<11:51, 10.46s/it]\u001b[A\u001b[A\n",
      "\n",
      " 33%|███▎      | 33/100 [06:00<11:46, 10.54s/it]\u001b[A\u001b[A\n",
      "\n",
      " 34%|███▍      | 34/100 [06:11<11:40, 10.61s/it]\u001b[A\u001b[A\n",
      "\n",
      " 35%|███▌      | 35/100 [06:22<11:37, 10.73s/it]\u001b[A\u001b[A\n",
      "\n",
      " 36%|███▌      | 36/100 [06:33<11:25, 10.70s/it]\u001b[A\u001b[A\n",
      "\n",
      " 37%|███▋      | 37/100 [06:44<11:18, 10.77s/it]\u001b[A\u001b[A\n",
      "\n",
      " 38%|███▊      | 38/100 [06:54<11:01, 10.67s/it]\u001b[A\u001b[A\n",
      "\n",
      " 39%|███▉      | 39/100 [07:06<11:05, 10.91s/it]\u001b[A\u001b[A\n",
      "\n",
      " 40%|████      | 40/100 [07:17<11:04, 11.07s/it]\u001b[A\u001b[A\n",
      "\n",
      " 41%|████      | 41/100 [07:28<10:51, 11.04s/it]\u001b[A\u001b[A\n",
      "\n",
      " 42%|████▏     | 42/100 [07:39<10:30, 10.87s/it]\u001b[A\u001b[A\n",
      "\n",
      " 43%|████▎     | 43/100 [07:49<10:17, 10.84s/it]\u001b[A\u001b[A\n",
      "\n",
      " 44%|████▍     | 44/100 [08:01<10:16, 11.01s/it]\u001b[A\u001b[A\n",
      "\n",
      " 45%|████▌     | 45/100 [08:12<10:06, 11.02s/it]\u001b[A\u001b[A\n",
      "\n",
      " 46%|████▌     | 46/100 [08:22<09:47, 10.88s/it]\u001b[A\u001b[A\n",
      "\n",
      " 47%|████▋     | 47/100 [08:33<09:29, 10.74s/it]\u001b[A\u001b[A\n",
      "\n",
      " 48%|████▊     | 48/100 [08:45<09:35, 11.07s/it]\u001b[A\u001b[A\n",
      "\n",
      " 49%|████▉     | 49/100 [08:55<09:18, 10.95s/it]\u001b[A\u001b[A\n",
      "\n",
      " 50%|█████     | 50/100 [09:07<09:13, 11.07s/it]\u001b[A\u001b[A\n",
      "\n",
      " 51%|█████     | 51/100 [09:18<09:06, 11.16s/it]\u001b[A\u001b[A\n",
      "\n",
      " 52%|█████▏    | 52/100 [09:29<08:55, 11.15s/it]\u001b[A\u001b[A\n",
      "\n",
      " 53%|█████▎    | 53/100 [09:40<08:46, 11.19s/it]\u001b[A\u001b[A\n",
      "\n",
      " 54%|█████▍    | 54/100 [09:52<08:39, 11.29s/it]\u001b[A\u001b[A\n",
      "\n",
      " 55%|█████▌    | 55/100 [10:03<08:30, 11.34s/it]\u001b[A\u001b[A\n",
      "\n",
      " 56%|█████▌    | 56/100 [10:15<08:24, 11.47s/it]\u001b[A\u001b[A\n",
      "\n",
      " 57%|█████▋    | 57/100 [10:26<08:08, 11.36s/it]\u001b[A\u001b[A\n",
      "\n",
      " 58%|█████▊    | 58/100 [10:38<07:57, 11.37s/it]\u001b[A\u001b[A\n",
      "\n",
      " 59%|█████▉    | 59/100 [10:49<07:42, 11.28s/it]\u001b[A\u001b[A\n",
      "\n",
      " 60%|██████    | 60/100 [11:00<07:26, 11.15s/it]\u001b[A\u001b[A\n",
      "\n",
      " 61%|██████    | 61/100 [11:10<07:07, 10.96s/it]\u001b[A\u001b[A\n",
      "\n",
      " 62%|██████▏   | 62/100 [11:22<07:08, 11.28s/it]\u001b[A\u001b[A\n",
      "\n",
      " 63%|██████▎   | 63/100 [11:33<06:53, 11.17s/it]\u001b[A\u001b[A\n",
      "\n",
      " 64%|██████▍   | 64/100 [11:44<06:35, 10.98s/it]\u001b[A\u001b[A\n",
      "\n",
      " 65%|██████▌   | 65/100 [11:57<06:45, 11.60s/it]\u001b[A\u001b[A\n",
      "\n",
      " 66%|██████▌   | 66/100 [12:10<06:48, 12.02s/it]\u001b[A\u001b[A\n",
      "\n",
      " 67%|██████▋   | 67/100 [12:20<06:23, 11.63s/it]\u001b[A\u001b[A\n",
      "\n",
      " 68%|██████▊   | 68/100 [12:31<06:05, 11.43s/it]\u001b[A\u001b[A\n",
      "\n",
      " 69%|██████▉   | 69/100 [12:42<05:46, 11.18s/it]\u001b[A\u001b[A\n",
      "\n",
      " 70%|███████   | 70/100 [12:52<05:29, 10.97s/it]\u001b[A\u001b[A\n",
      "\n",
      " 71%|███████   | 71/100 [13:04<05:21, 11.07s/it]\u001b[A\u001b[A\n",
      "\n",
      " 72%|███████▏  | 72/100 [13:19<05:44, 12.31s/it]\u001b[A\u001b[A\n",
      "\n",
      " 73%|███████▎  | 73/100 [13:30<05:23, 11.99s/it]\u001b[A\u001b[A\n",
      "\n",
      " 74%|███████▍  | 74/100 [13:42<05:07, 11.83s/it]\u001b[A\u001b[A\n",
      "\n",
      " 75%|███████▌  | 75/100 [13:53<04:50, 11.63s/it]\u001b[A\u001b[A\n",
      "\n",
      " 76%|███████▌  | 76/100 [14:04<04:35, 11.47s/it]\u001b[A\u001b[A\n",
      "\n",
      " 77%|███████▋  | 77/100 [14:15<04:22, 11.42s/it]\u001b[A\u001b[A\n",
      "\n",
      " 78%|███████▊  | 78/100 [14:26<04:05, 11.14s/it]\u001b[A\u001b[A\n",
      "\n",
      " 79%|███████▉  | 79/100 [14:36<03:49, 10.95s/it]\u001b[A\u001b[A\n",
      "\n",
      " 80%|████████  | 80/100 [14:48<03:47, 11.37s/it]\u001b[A\u001b[A\n",
      "\n",
      " 81%|████████  | 81/100 [15:04<03:57, 12.49s/it]\u001b[A\u001b[A\n",
      "\n",
      " 82%|████████▏ | 82/100 [15:15<03:37, 12.10s/it]\u001b[A\u001b[A\n",
      "\n",
      " 83%|████████▎ | 83/100 [15:26<03:22, 11.92s/it]\u001b[A\u001b[A\n",
      "\n",
      " 84%|████████▍ | 84/100 [15:41<03:23, 12.72s/it]\u001b[A\u001b[A\n",
      "\n",
      " 85%|████████▌ | 85/100 [15:53<03:06, 12.46s/it]\u001b[A\u001b[A\n",
      "\n",
      " 86%|████████▌ | 86/100 [16:05<02:54, 12.45s/it]\u001b[A\u001b[A\n",
      "\n",
      " 87%|████████▋ | 87/100 [16:18<02:42, 12.47s/it]\u001b[A\u001b[A\n",
      "\n",
      " 88%|████████▊ | 88/100 [16:29<02:24, 12.06s/it]\u001b[A\u001b[A\n",
      "\n",
      " 89%|████████▉ | 89/100 [16:47<02:33, 13.98s/it]\u001b[A\u001b[A\n",
      "\n",
      " 90%|█████████ | 90/100 [17:00<02:15, 13.53s/it]\u001b[A\u001b[A\n",
      "\n",
      " 91%|█████████ | 91/100 [17:11<01:55, 12.85s/it]\u001b[A\u001b[A\n",
      "\n",
      " 92%|█████████▏| 92/100 [17:22<01:38, 12.31s/it]\u001b[A\u001b[A\n",
      "\n",
      " 93%|█████████▎| 93/100 [17:34<01:25, 12.22s/it]\u001b[A\u001b[A\n",
      "\n",
      " 94%|█████████▍| 94/100 [17:45<01:10, 11.80s/it]\u001b[A\u001b[A\n",
      "\n",
      " 95%|█████████▌| 95/100 [17:56<00:58, 11.67s/it]\u001b[A\u001b[A\n",
      "\n",
      " 96%|█████████▌| 96/100 [18:07<00:45, 11.50s/it]\u001b[A\u001b[A\n",
      "\n",
      " 97%|█████████▋| 97/100 [18:19<00:34, 11.45s/it]\u001b[A\u001b[A\n",
      "\n",
      " 98%|█████████▊| 98/100 [18:29<00:22, 11.18s/it]\u001b[A\u001b[A\n",
      "\n",
      " 99%|█████████▉| 99/100 [18:40<00:11, 11.12s/it]\u001b[A\u001b[A\n",
      "\n",
      "100%|██████████| 100/100 [18:52<00:00, 11.20s/it]\u001b[A\u001b[A"
     ]
    },
    {
     "name": "stdout",
     "output_type": "stream",
     "text": [
      "0.8662790697674418\n"
     ]
    }
   ],
   "source": [
    "mas = np.ones(X_test.shape[0])\n",
    "for i in tqdm(range(100)):\n",
    "    samples = np.random.randint(0, X_train.shape[0], size = X_train.shape[0])\n",
    "    my_clf = MyGradientBoostingClassifier(learning_rate = 0.1, n_estimators = 100, max_depth = 5)\n",
    "    my_clf.fit(X_train, y_train)\n",
    "    mas += my_clf.predict(X_test)\n",
    "print(accuracy_score(np.round(mas / 100), y_test))"
   ]
  },
  {
   "cell_type": "code",
   "execution_count": null,
   "metadata": {},
   "outputs": [],
   "source": [
    "Качество очень даже приросло, потому что случайный лес сильнее одного дерева"
   ]
  },
  {
   "cell_type": "markdown",
   "metadata": {
    "collapsed": true
   },
   "source": [
    "## Умная инициализация (1 балл)\n",
    "\n",
    "Попробуйте брать в качестве инициализации бустинга не константу, а какой-то алгоритм и уже от его предикта стартовать итерации бустинга. Попробуйте разные модели из sklearn: линейные модели, рандом форест, svm..\n",
    "\n",
    "Получилось ли улучшить качество? Почему?\n",
    "\n"
   ]
  },
  {
   "cell_type": "code",
   "execution_count": 210,
   "metadata": {},
   "outputs": [],
   "source": [
    "from sklearn.linear_model import LinearRegression\n",
    "from sklearn.svm import SVR"
   ]
  },
  {
   "cell_type": "code",
   "execution_count": 218,
   "metadata": {},
   "outputs": [
    {
     "data": {
      "text/plain": [
       "0.8500484496124031"
      ]
     },
     "execution_count": 218,
     "metadata": {},
     "output_type": "execute_result"
    }
   ],
   "source": [
    "my_clf = MyGradientBoostingClassifier(learning_rate = 0.1, n_estimators = 100, max_depth = 5)\n",
    "my_clf.fit(X_train, y_train, init_model = LinearRegression())\n",
    "accuracy_score(my_clf.predict(X_test), y_test)"
   ]
  },
  {
   "cell_type": "code",
   "execution_count": 213,
   "metadata": {},
   "outputs": [
    {
     "data": {
      "text/plain": [
       "0.8527131782945736"
      ]
     },
     "execution_count": 213,
     "metadata": {},
     "output_type": "execute_result"
    }
   ],
   "source": [
    "my_clf = MyGradientBoostingClassifier(learning_rate = 0.1, n_estimators = 100, max_depth = 5)\n",
    "my_clf.fit(X_train, y_train, init_model = RandomForestRegressor())\n",
    "accuracy_score(my_clf.predict(X_test), y_test)"
   ]
  },
  {
   "cell_type": "code",
   "execution_count": 215,
   "metadata": {},
   "outputs": [
    {
     "data": {
      "text/plain": [
       "0.8035368217054264"
      ]
     },
     "execution_count": 215,
     "metadata": {},
     "output_type": "execute_result"
    }
   ],
   "source": [
    "my_clf = MyGradientBoostingClassifier(learning_rate = 0.1, n_estimators = 100,max_depth = 5)\n",
    "my_clf.fit(X_train, y_train, init_model = SVR())\n",
    "accuracy_score(my_clf.predict(X_test), y_test)"
   ]
  },
  {
   "cell_type": "code",
   "execution_count": null,
   "metadata": {},
   "outputs": [],
   "source": [
    "Вывод: svm очень долго работает, но скор у него меньше, чем у \n",
    "RandomForestRegressor() и LinearRegression()"
   ]
  },
  {
   "cell_type": "markdown",
   "metadata": {},
   "source": [
    "## Фидбек (бесценно)"
   ]
  },
  {
   "cell_type": "markdown",
   "metadata": {},
   "source": [
    "* Какие аспекты обучения  ансамблей Вам показались непонятными? Какое место стоит дополнительно объяснить?"
   ]
  },
  {
   "cell_type": "markdown",
   "metadata": {},
   "source": [
    "### Ваш ответ здесь"
   ]
  },
  {
   "cell_type": "markdown",
   "metadata": {},
   "source": [
    "* Здесь Вы можете оставить отзыв о этой домашней работе или о всем курсе."
   ]
  },
  {
   "cell_type": "markdown",
   "metadata": {},
   "source": [
    "### ВАШ ОТЗЫВ ЗДЕСЬ\n",
    "\n"
   ]
  },
  {
   "cell_type": "code",
   "execution_count": null,
   "metadata": {},
   "outputs": [],
   "source": []
  },
  {
   "cell_type": "code",
   "execution_count": null,
   "metadata": {
    "collapsed": true
   },
   "outputs": [],
   "source": []
  }
 ],
 "metadata": {
  "anaconda-cloud": {},
  "kernelspec": {
   "display_name": "Python 3",
   "language": "python",
   "name": "python3"
  },
  "language_info": {
   "codemirror_mode": {
    "name": "ipython",
    "version": 3
   },
   "file_extension": ".py",
   "mimetype": "text/x-python",
   "name": "python",
   "nbconvert_exporter": "python",
   "pygments_lexer": "ipython3",
   "version": "3.7.3"
  }
 },
 "nbformat": 4,
 "nbformat_minor": 2
}
